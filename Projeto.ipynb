{
  "nbformat": 4,
  "nbformat_minor": 0,
  "metadata": {
    "colab": {
      "name": "Projeto.ipynb",
      "version": "0.3.2",
      "provenance": [],
      "collapsed_sections": [],
      "toc_visible": true,
      "include_colab_link": true
    },
    "kernelspec": {
      "name": "python3",
      "display_name": "Python 3"
    },
    "accelerator": "GPU"
  },
  "cells": [
    {
      "cell_type": "markdown",
      "metadata": {
        "id": "view-in-github",
        "colab_type": "text"
      },
      "source": [
        "<a href=\"https://colab.research.google.com/github/Heffx/CNN/blob/master/Projeto.ipynb\" target=\"_parent\"><img src=\"https://colab.research.google.com/assets/colab-badge.svg\" alt=\"Open In Colab\"/></a>"
      ]
    },
    {
      "metadata": {
        "id": "eyzYCyRsH8-h",
        "colab_type": "code",
        "outputId": "c538a1eb-4b4e-4001-aa0c-91b5b4d749ff",
        "colab": {}
      },
      "cell_type": "code",
      "source": [
        "#Importando o Pytorch\n",
        "from os.path import exists\n",
        "from wheel.pep425tags import get_abbr_impl, get_impl_ver, get_abi_tag\n",
        "platform = '{}{}-{}'.format(get_abbr_impl(), get_impl_ver(), get_abi_tag())\n",
        "cuda_output = !ldconfig -p|grep cudart.so|sed -e 's/.*\\.\\([0-9]*\\)\\.\\([0-9]*\\)$/cu\\1\\2/'\n",
        "accelerator = cuda_output[0] if exists('/dev/nvidia0') else 'cpu'\n",
        "\n",
        "!pip install -q http://download.pytorch.org/whl/{accelerator}/torch-0.4.1-{platform}-linux_x86_64.whl torchvision\n",
        "import torch"
      ],
      "execution_count": 0,
      "outputs": []
    },
    {
      "metadata": {
        "id": "xcQbTMMpIj74",
        "colab_type": "code",
        "outputId": "89081df3-a916-4b4f-86b5-34ff562a3e29",
        "colab": {}
      },
      "cell_type": "code",
      "source": [
        "# Conferindo se o CUDA esta disponivel\n",
        "\n",
        "verificaGPU = torch.cuda.is_available()\n",
        "\n",
        "if not verificaGPU:\n",
        "  print('CUDA INDISPONIVEL, TREINANDO COM CPU')\n",
        "else:\n",
        "  print('CUDA DISPONIVEL, TREINANDO COM GPU')"
      ],
      "execution_count": 0,
      "outputs": []
    },
    {
      "metadata": {
        "id": "mTFSdb4gRK33",
        "colab_type": "code",
        "outputId": "8bb0ca35-7dd9-4d9a-da07-776c8f0baf4c",
        "colab": {}
      },
      "cell_type": "code",
      "source": [
        "# Instalando o Torch Vision\n",
        "!pip3 install torchvision"
      ],
      "execution_count": 0,
      "outputs": []
    },
    {
      "metadata": {
        "id": "nxFpAD8xTusN",
        "colab_type": "code",
        "outputId": "f5d4ed4f-62fc-420e-f553-588ad98f6227",
        "colab": {}
      },
      "cell_type": "code",
      "source": [
        "# Instalando Pillow\n",
        "!pip install Pillow==4.1.1\n",
        "\n",
        "!pip install image"
      ],
      "execution_count": 0,
      "outputs": []
    },
    {
      "metadata": {
        "id": "4yFeiycn3-SW",
        "colab_type": "code",
        "colab": {}
      },
      "cell_type": "code",
      "source": [
        "# Fazendo download e descompactando o dataset\n",
        "!wget -cq https://github.com/udacity/pytorch_challenge/raw/master/cat_to_name.json\n",
        "!wget -cq https://s3.amazonaws.com/content.udacity-data.com/courses/nd188/flower_data.zip\n",
        "!rm -r flower_data || true\n",
        "!unzip -qq flower_data.zip"
      ],
      "execution_count": 0,
      "outputs": []
    },
    {
      "metadata": {
        "id": "MMiRF1Q9Ff6V",
        "colab_type": "code",
        "colab": {}
      },
      "cell_type": "code",
      "source": [
        "# Todos os imports necessários'\n",
        "import time\n",
        "import json\n",
        "import copy\n",
        "import flower_data\n",
        "import matplotlib.pyplot as plt\n",
        "import seaborn as sns\n",
        "import numpy as np\n",
        "import PIL\n",
        "from PIL import Image\n",
        "from collections import OrderedDict\n",
        "import torch\n",
        "from torch import nn, optim\n",
        "from torch.optim import lr_scheduler\n",
        "from torch.autograd import Variable\n",
        "import torchvision\n",
        "from torchvision import datasets, models, transforms\n",
        "from torch.utils.data.sampler import SubsetRandomSampler\n",
        "import torch.nn as nn\n",
        "import torch.nn.functional as F\n",
        "import glob\n",
        "import os\n",
        "from skimage import data, io, filters\n",
        "from scipy.optimize import minimize\n",
        "import cv2\n"
      ],
      "execution_count": 0,
      "outputs": []
    },
    {
      "metadata": {
        "id": "qNt-6tDkYx4X",
        "colab_type": "code",
        "colab": {}
      },
      "cell_type": "code",
      "source": [
        "# Definindo variavel global para treinamento com CUDA\n",
        "device = torch.device(\"cuda:0\" if torch.cuda.is_available() else \"cpu\")"
      ],
      "execution_count": 0,
      "outputs": []
    },
    {
      "metadata": {
        "id": "PNhMUsEXUQY7",
        "colab_type": "text"
      },
      "cell_type": "markdown",
      "source": [
        "#Carregando, Normalizando e Criando vetor de Imagens"
      ]
    },
    {
      "metadata": {
        "id": "ORyh1oX9goG0",
        "colab_type": "code",
        "colab": {}
      },
      "cell_type": "code",
      "source": [
        "# Aumento e normalização de dados para treinamento\n",
        "# Apenas normalização para validação\n",
        "data_transforms = {\n",
        "    'train': transforms.Compose([\n",
        "        # Redimensiona a imagem em (224,224)\n",
        "        transforms.RandomResizedCrop(224),\n",
        "        # Inverte horizontalmente a imagem\n",
        "        transforms.RandomHorizontalFlip(),\n",
        "        # Transforma em matriz de dados unicos\n",
        "        transforms.ToTensor(),\n",
        "        # Normaliza as imagens atraves de desvio padrão(Valores retirados de outro trabalho) \n",
        "        transforms.Normalize([0.485, 0.456, 0.406], [0.229, 0.224, 0.225])\n",
        "    ]),\n",
        "    'valid': transforms.Compose([\n",
        "        \n",
        "        # Redimensiona a imagem em (224,224)\n",
        "        #transforms.RandomResizedCrop(224),\n",
        "        # Transformação da imagem para tamanho de entrada\n",
        "         transforms.Resize(256),\n",
        "        # Recorta a imagem no centro\n",
        "         transforms.CenterCrop(224),\n",
        "        # Transforma em matriz de dados unicos\n",
        "        transforms.ToTensor(),\n",
        "        # Normaliza as imagens atraves de desvio padrão(Valores retirados de outro trabalho) \n",
        "        transforms.Normalize([0.485, 0.456, 0.406], [0.229, 0.224, 0.225])\n",
        "    ]),\n",
        "}\n",
        "\n",
        "\n",
        "# print(data_transforms)"
      ],
      "execution_count": 0,
      "outputs": []
    },
    {
      "metadata": {
        "id": "6yE5HHrKXfTT",
        "colab_type": "code",
        "colab": {}
      },
      "cell_type": "code",
      "source": [
        "# Definindo nome dos diretorios de forma global para todo o código\n",
        "train_dir = 'flower_data/train/'\n",
        "valid_dir = 'flower_data/valid/'\n",
        "dirs = {'train': train_dir, \n",
        "        'valid': valid_dir, \n",
        "       }"
      ],
      "execution_count": 0,
      "outputs": []
    },
    {
      "metadata": {
        "id": "yg_i22ryV5AT",
        "colab_type": "code",
        "colab": {}
      },
      "cell_type": "code",
      "source": [
        "# Carregando as pastas do dataset\n",
        "image_datasets = {x: datasets.ImageFolder(dirs[x],\n",
        "                                          transform = data_transforms[x])\n",
        "                  for x in ['train', 'valid']}\n",
        "\n",
        "# Carregando imagens do dataset de treino e validação em  lotes\n",
        "dataloaders = {x: torch.utils.data.DataLoader(image_datasets[x], \n",
        "                                              batch_size=32, shuffle=True) \n",
        "               for x in ['train', 'valid']}\n",
        "\n",
        "# Carregando tamanho do dataset de treino e validação\n",
        "dataset_sizes = {x: len(image_datasets[x]) \n",
        "                              for x in ['train', 'valid']}\n",
        "\n",
        "# Carregando as classes do dataset de treino\n",
        "class_names = image_datasets['train'].classes"
      ],
      "execution_count": 0,
      "outputs": []
    },
    {
      "metadata": {
        "id": "pp2d2zMBZBGO",
        "colab_type": "code",
        "colab": {}
      },
      "cell_type": "code",
      "source": [
        "# print(dataset_sizes)\n",
        "# print(device)"
      ],
      "execution_count": 0,
      "outputs": []
    },
    {
      "metadata": {
        "id": "kkYTDVkDZP-N",
        "colab_type": "code",
        "colab": {}
      },
      "cell_type": "code",
      "source": [
        "# Carregando arquivo Json\n",
        "with open('cat_to_name.json', 'r') as f:\n",
        "    cat_to_name = json.load(f)"
      ],
      "execution_count": 0,
      "outputs": []
    },
    {
      "metadata": {
        "id": "HQu7vOXfZGDI",
        "colab_type": "code",
        "outputId": "80dda2b3-136e-4d28-d516-2ccd1e832547",
        "colab": {}
      },
      "cell_type": "code",
      "source": [
        "# Atribuindo o nome das classes com o arquivo Json\n",
        "images, labels = next(iter(dataloaders['train']))\n",
        "images.size()\n",
        "images, labels = next(iter(dataloaders['train']))\n",
        "rand_idx = np.random.randint(len(images))\n",
        "# print(rand_idx)\n",
        "print(\"label: {}, class: {}, name: {}\".format(labels[rand_idx].item(),\n",
        "                                               class_names[labels[rand_idx].item()],\n",
        "                                               cat_to_name[class_names[labels[rand_idx].item()]]))"
      ],
      "execution_count": 0,
      "outputs": []
    },
    {
      "metadata": {
        "id": "9KKCZznmYyVg",
        "colab_type": "text"
      },
      "cell_type": "markdown",
      "source": [
        "##Função de treino da rede"
      ]
    },
    {
      "metadata": {
        "id": "hLzay5BoZxJr",
        "colab_type": "code",
        "colab": {}
      },
      "cell_type": "code",
      "source": [
        "def train_model(model, criteria, optimizer, scheduler,    \n",
        "                                      num_epochs=25, device='cuda'):\n",
        "    \n",
        "    # Variável que calcula tempo gasto pelo modelo\n",
        "    since = time.time()\n",
        "    \n",
        "    # Recebe os melhores parametros do modelo a cada iteração\n",
        "    best_model_wts = copy.deepcopy(model.state_dict())\n",
        "    # Variável que calcula melhor acurácia\n",
        "    best_acc = 0.0\n",
        "    \n",
        "    # FOR que roda todas as iterações\n",
        "    for epoch in range(num_epochs):\n",
        "        print('Época {}/{}'.format(epoch, num_epochs - 1))\n",
        "        print('-' * 10)\n",
        "\n",
        "        # Cada época tem uma fase de treinamento e validação\n",
        "        for phase in ['train', 'valid']:\n",
        "            if phase == 'train':\n",
        "                scheduler.step()\n",
        "                model.train()  # Definir modelo para o modo de treinamento\n",
        "            else:\n",
        "                model.eval()   # Definir modelo para avaliar o modo\n",
        "            \n",
        "            # Várivel que recebe os erros da rede\n",
        "            running_loss = 0.0\n",
        "            # Várivel que recebe os acertos da rede\n",
        "            running_corrects = 0.0\n",
        "\n",
        "            # Carregando os bancos de dados.\n",
        "            for inputs, labels in dataloaders[phase]:\n",
        "                inputs = inputs.to(device)\n",
        "                labels = labels.to(device)\n",
        "             \n",
        "\n",
        "                # Zerando os gradientes dos parâmetros\n",
        "                optimizer.zero_grad()\n",
        "\n",
        "                # Forward\n",
        "                # Set histórico somente no treinamento\n",
        "                with torch.set_grad_enabled(phase == 'train'):\n",
        "                    outputs = model(inputs)\n",
        "                    _, preds = torch.max(outputs, 1)\n",
        "                    loss = criterion(outputs, labels)\n",
        "\n",
        "                    # Backward + optimize somente na fase de treinamento\n",
        "                    if phase == 'train':\n",
        "                        loss.backward()\n",
        "                        optimizer.step()\n",
        "\n",
        "                        \n",
        "                # Estátisticas\n",
        "                # A cada erro da rede o valor e armazenado na váriavel running_loss\n",
        "                running_loss += loss.item() * inputs.size(0)\n",
        "             \n",
        "                # A cada acerto da rede o valor e armazenado na váriavel running_corrects\n",
        "                running_corrects += torch.sum(preds == labels.data)\n",
        "\n",
        "            # Cálculo do valor de erros a cada iteração de epóca\n",
        "            epoch_loss = running_loss / dataset_sizes[phase]\n",
        "            # Cálculo do valor da acurácia a cada iteração de epóca\n",
        "            epoch_acc = running_corrects.double() / dataset_sizes[phase]\n",
        "            \n",
        "            # Printa na tela o valor de erros e da acuracia no treino e na validação\n",
        "            print('{} Loss: {:.4f} Acurácia: {:.4f}'.format(\n",
        "                phase, epoch_loss, epoch_acc))\n",
        "\n",
        "            # Armazena dados da rede na fase de validação\n",
        "            if phase == 'valid' and epoch_acc > best_acc:\n",
        "                # Armazena a época que que a rede teve melhor valor de acurácia \n",
        "                best_acc = epoch_acc\n",
        "                # Armazena os parametros para próxima iteração da rede\n",
        "                best_model_wts = copy.deepcopy(model.state_dict())\n",
        "\n",
        "        print()\n",
        "    \n",
        "    # Variavel que recebe o valor total do tempo gasto pelo modelo\n",
        "    time_elapsed = time.time() - since\n",
        "    print('Treino completo em {:.0f}m {:.0f}s'.format(\n",
        "        time_elapsed // 60, time_elapsed % 60))\n",
        "    # Printa na tela o maior de valor acurácia\n",
        "    print('Melhor Acurácia: {:4f}'.format(best_acc))\n",
        "\n",
        "    # Carrega os parametros da rede\n",
        "    model.load_state_dict(best_model_wts)\n",
        "    \n",
        "    # Retorna o modelo\n",
        "    return model"
      ],
      "execution_count": 0,
      "outputs": []
    },
    {
      "metadata": {
        "id": "-6VqOZrTfrBQ",
        "colab_type": "text"
      },
      "cell_type": "markdown",
      "source": [
        "## Pré-treino VGG 19"
      ]
    },
    {
      "metadata": {
        "id": "MMs_QtMaY0_R",
        "colab_type": "code",
        "colab": {}
      },
      "cell_type": "code",
      "source": [
        "# Carregando em model a rede VGG19\n",
        "model = models.vgg19(pretrained=True)"
      ],
      "execution_count": 0,
      "outputs": []
    },
    {
      "metadata": {
        "id": "yaE5zsTwuctm",
        "colab_type": "code",
        "outputId": "e95c945b-42ac-45c0-8ba9-8894c80c1514",
        "colab": {}
      },
      "cell_type": "code",
      "source": [
        "# Verificando se o modelo foi carregado corretamente\n",
        "model"
      ],
      "execution_count": 0,
      "outputs": []
    },
    {
      "metadata": {
        "id": "UXHrmOP7ujLE",
        "colab_type": "code",
        "colab": {}
      },
      "cell_type": "code",
      "source": [
        "\n",
        "#Definindo a arquitetura da rede\n",
        "class Classifier(nn.Module):\n",
        "  def __init__(self):\n",
        "    super().__init__()\n",
        "    self.fc1 = nn.Linear(25088,4096)\n",
        "    self.fc2 = nn.Linear(4096,102)\n",
        "    \n",
        "  def forward(self,x):\n",
        "    # Verifica se o tensor está \"flattened (achatado)\"\n",
        "    x = x.view(x.shape[0],-1)\n",
        "    \n",
        "    x = F.relu(self.fc1(x))\n",
        "    x = F.log_softmax(self.fc2(x),dim=1)\n",
        "    \n",
        "    return x\n"
      ],
      "execution_count": 0,
      "outputs": []
    },
    {
      "metadata": {
        "id": "ZEwR5kcxCQXr",
        "colab_type": "code",
        "colab": {}
      },
      "cell_type": "code",
      "source": [
        "classifier = Classifier()\n",
        "for param in model.parameters():\n",
        "    param.requires_grad = False\n",
        "    \n",
        "model.classifier = classifier"
      ],
      "execution_count": 0,
      "outputs": []
    },
    {
      "metadata": {
        "id": "J4QCVrPUFHoH",
        "colab_type": "code",
        "colab": {}
      },
      "cell_type": "code",
      "source": [
        "if verificaGPU:\n",
        "    model.cuda()"
      ],
      "execution_count": 0,
      "outputs": []
    },
    {
      "metadata": {
        "id": "mEFtihyXGGo8",
        "colab_type": "code",
        "colab": {}
      },
      "cell_type": "code",
      "source": [
        "# Criteria NLLLoss which is recommended with Softmax final layer\n",
        "criterion = nn.NLLLoss()\n",
        "# Observe that all parameters are being optimized\n",
        "optim = torch.optim.Adam(model.classifier.parameters(), lr=0.001)\n",
        "# Decay LR by a factor of 0.1 every 4 epochs\n",
        "sched = lr_scheduler.StepLR(optim, step_size=4, gamma=0.1)\n",
        "# Number of epochs\n",
        "eps=30"
      ],
      "execution_count": 0,
      "outputs": []
    },
    {
      "metadata": {
        "id": "ajBxkhg9fyqo",
        "colab_type": "text"
      },
      "cell_type": "markdown",
      "source": [
        "##Treinando a rede com o modelo VGG"
      ]
    },
    {
      "metadata": {
        "id": "dK_QACUYZ3Li",
        "colab_type": "code",
        "colab": {}
      },
      "cell_type": "code",
      "source": [
        "# model_ft = train_model(model, criterion, optim, sched, eps, 'cuda')"
      ],
      "execution_count": 0,
      "outputs": []
    },
    {
      "metadata": {
        "id": "9tTum9yLf_4S",
        "colab_type": "text"
      },
      "cell_type": "markdown",
      "source": [
        "## Salvando modelo"
      ]
    },
    {
      "metadata": {
        "id": "w6IV24WsCSgQ",
        "colab_type": "code",
        "colab": {}
      },
      "cell_type": "code",
      "source": [
        "# Salvando Modelo\n",
        "model.class_to_idx = image_datasets['train'].class_to_idx\n",
        "model.cpu()\n",
        "torch.save({'arch': 'vgg19',\n",
        "            'state_dict': model.state_dict(), \n",
        "            'class_to_idx': model.class_to_idx}, \n",
        "            'classifier.pth')"
      ],
      "execution_count": 0,
      "outputs": []
    },
    {
      "metadata": {
        "id": "fC3bNHozgCXq",
        "colab_type": "text"
      },
      "cell_type": "markdown",
      "source": [
        "## Pré-treino AlexNet"
      ]
    },
    {
      "metadata": {
        "id": "oMBvTEI-zdTL",
        "colab_type": "code",
        "colab": {}
      },
      "cell_type": "code",
      "source": [
        "model_alex = models.alexnet(pretrained=False)"
      ],
      "execution_count": 0,
      "outputs": []
    },
    {
      "metadata": {
        "id": "gKgGJgbdG8Mg",
        "colab_type": "code",
        "colab": {},
        "outputId": "eadb31fd-ee01-435a-e736-8f7f1a09c2d4"
      },
      "cell_type": "code",
      "source": [
        "model_alex.classifier[1].in_features"
      ],
      "execution_count": 0,
      "outputs": []
    },
    {
      "metadata": {
        "colab_type": "code",
        "id": "_hiLM7eEMTtB",
        "colab": {}
      },
      "cell_type": "code",
      "source": [
        ""
      ],
      "execution_count": 0,
      "outputs": []
    },
    {
      "metadata": {
        "id": "h5Sh_gkPEtkd",
        "colab_type": "code",
        "colab": {}
      },
      "cell_type": "code",
      "source": [
        "#if verificaGPU:\n",
        "#    model_alex.cuda()"
      ],
      "execution_count": 0,
      "outputs": []
    },
    {
      "metadata": {
        "id": "hZQQQ8DFLC34",
        "colab_type": "code",
        "colab": {},
        "outputId": "907dd288-1a1d-4667-be44-9b1dbc143b3b"
      },
      "cell_type": "code",
      "source": [
        "model_alex.to(device)"
      ],
      "execution_count": 0,
      "outputs": []
    },
    {
      "metadata": {
        "id": "zZrbf5y-QduL",
        "colab_type": "code",
        "colab": {}
      },
      "cell_type": "code",
      "source": [
        "optim_alex = torch.optim.SGD(params = model_alex.parameters(), lr=0.9)"
      ],
      "execution_count": 0,
      "outputs": []
    },
    {
      "metadata": {
        "id": "Ft_bu3VcDaWL",
        "colab_type": "code",
        "colab": {}
      },
      "cell_type": "code",
      "source": [
        "criterion_alex = nn.PoissonNLLLoss()\n",
        "\n",
        "sched_alex = lr_scheduler.StepLR(optim_alex, step_size=1, gamma=0.01)"
      ],
      "execution_count": 0,
      "outputs": []
    },
    {
      "metadata": {
        "id": "iLwagVMpgKPQ",
        "colab_type": "text"
      },
      "cell_type": "markdown",
      "source": [
        "## Treinando a rede com o modelo AlexNet"
      ]
    },
    {
      "metadata": {
        "id": "ta1B4h3G0dY8",
        "colab_type": "code",
        "colab": {},
        "outputId": "a651b89c-64d0-4cb0-fde1-72018ea28984"
      },
      "cell_type": "code",
      "source": [
        "model_ft = train_model(model_alex, criterion_alex, optim_alex, sched_alex, eps, 'cuda')"
      ],
      "execution_count": 0,
      "outputs": []
    },
    {
      "metadata": {
        "id": "diVRGfRmgaII",
        "colab_type": "text"
      },
      "cell_type": "markdown",
      "source": [
        "## Salvando Modelo"
      ]
    },
    {
      "metadata": {
        "id": "fjTZXYGp0hTc",
        "colab_type": "code",
        "colab": {}
      },
      "cell_type": "code",
      "source": [
        "# Salvando Modelo\n",
        "#torch.save(model_alex.state_dict(), './alexnet.pth')\n",
        "\n",
        "model.class_to_idx = image_datasets['train'].class_to_idx\n",
        "model.cpu()\n",
        "torch.save({'arch': 'AlexNet',\n",
        "            'state_dict': model.state_dict(), \n",
        "            'class_to_idx': model.class_to_idx}, \n",
        "            'classifier.pth')"
      ],
      "execution_count": 0,
      "outputs": []
    },
    {
      "metadata": {
        "id": "WEsB3KLqghKd",
        "colab_type": "text"
      },
      "cell_type": "markdown",
      "source": [
        "## Predição "
      ]
    },
    {
      "metadata": {
        "id": "ix-IdWLmmc6H",
        "colab_type": "code",
        "colab": {}
      },
      "cell_type": "code",
      "source": [
        "# Processa a imagem como no modelo\n",
        "def process_image(image_path):\n",
        "    \n",
        "    # Abrindo a imagem\n",
        "    img = Image.open(image_path)\n",
        "    \n",
        "    # Resize\n",
        "    if img.size[0] > img.size[1]:\n",
        "        img.thumbnail((10000, 256))\n",
        "    else:\n",
        "        img.thumbnail((256, 10000))\n",
        "    # Crop \n",
        "    left_margin = (img.width-224)/2\n",
        "    bottom_margin = (img.height-224)/2\n",
        "    right_margin = left_margin + 224\n",
        "    top_margin = bottom_margin + 224\n",
        "    img = img.crop((left_margin, bottom_margin, right_margin,   \n",
        "                      top_margin))\n",
        "    # Normalize\n",
        "    img = np.array(img)/255\n",
        "    mean = np.array([0.485, 0.456, 0.406]) #provided mean\n",
        "    std = np.array([0.229, 0.224, 0.225]) #provided std\n",
        "    img = (img - mean)/std\n",
        "    \n",
        "    # Move os canais de cor para a primeira dimensão conforme esperado pelo PyTorch\n",
        "    img = img.transpose((2, 0, 1))\n",
        "    \n",
        "    return img"
      ],
      "execution_count": 0,
      "outputs": []
    },
    {
      "metadata": {
        "id": "jvrtBoOlp81b",
        "colab_type": "code",
        "colab": {}
      },
      "cell_type": "code",
      "source": [
        "# Função que recebe a imagem, o modelo, e o numero de classes vc quer que ele apresente.\n",
        "def predict(image_path, model, top_num=5):\n",
        "   \n",
        "    # Processa a imagem com a função acima\n",
        "    img = process_image(image_path)\n",
        "    \n",
        "    # Numpy -> Tensor\n",
        "    image_tensor = torch.from_numpy(img).type(torch.FloatTensor)\n",
        "    # Muda o lote para tamanho 1\n",
        "    model_input = image_tensor.unsqueeze(0)\n",
        "    # Testa a probabilidade com o modelo\n",
        "    probs = torch.exp(model.forward(model_input))\n",
        "    # Recebe os principais modelos retornados pela rede\n",
        "    top_probs, top_labs = probs.topk(top_num)\n",
        "    top_probs = top_probs.detach().numpy().tolist()[0] \n",
        "    top_labs = top_labs.detach().numpy().tolist()[0]\n",
        "    # converte os indices recebidos no nome das classes\n",
        "    idx_to_class = {val: key for key, val in    \n",
        "                                      model.class_to_idx.items()}\n",
        "    top_labels = [idx_to_class[lab] for lab in top_labs]\n",
        "    top_flowers = [cat_to_name[idx_to_class[lab]] for lab in top_labs]\n",
        "    \n",
        "    # Retorno para a função de plot\n",
        "    return top_probs, top_labels, top_flowers"
      ],
      "execution_count": 0,
      "outputs": []
    },
    {
      "metadata": {
        "id": "dL13K_iop-xk",
        "colab_type": "code",
        "colab": {}
      },
      "cell_type": "code",
      "source": [
        "# Função de plotar resultado da predição\n",
        "def plot_solution(image_path, model):\n",
        "    # Set plot\n",
        "    plt.figure(figsize = (6,10))\n",
        "    ax = plt.subplot(2,1,1)\n",
        "    # Set titulo\n",
        "    #Carrega o numero da classe da flor\n",
        "    flower_num = image_path.split('/')[2]\n",
        "    # Carrega o nome da classe de acordo com o numero obtido acima\n",
        "    title_ = cat_to_name[flower_num]\n",
        "    # Plot flor\n",
        "    img = process_image(image_path)\n",
        "    imshow(img, ax, title = title_);\n",
        "    # Recendo previsão da função acima\n",
        "    probs, labs, flowers = predict(image_path, model) \n",
        "    # Plot gráfico de barras\n",
        "    plt.subplot(2,1,2)\n",
        "    sns.barplot(x=probs, y=flowers, color=sns.color_palette()[0]);\n",
        "    plt.show()"
      ],
      "execution_count": 0,
      "outputs": []
    },
    {
      "metadata": {
        "id": "eukDBTCcx7mC",
        "colab_type": "code",
        "colab": {}
      },
      "cell_type": "code",
      "source": [
        "image_path = 'flower_data/valid/29/image_04143.jpg'\n",
        "plot_solution(image_path, model)"
      ],
      "execution_count": 0,
      "outputs": []
    }
  ]
}