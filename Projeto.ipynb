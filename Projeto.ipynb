{
  "nbformat": 4,
  "nbformat_minor": 0,
  "metadata": {
    "colab": {
      "name": "Projeto.ipynb",
      "version": "0.3.2",
      "provenance": [],
      "collapsed_sections": [],
      "toc_visible": true,
      "include_colab_link": true
    },
    "kernelspec": {
      "name": "python3",
      "display_name": "Python 3"
    },
    "accelerator": "GPU"
  },
  "cells": [
    {
      "cell_type": "markdown",
      "metadata": {
        "id": "view-in-github",
        "colab_type": "text"
      },
      "source": [
        "<a href=\"https://colab.research.google.com/github/Heffx/CNN/blob/master/Projeto.ipynb\" target=\"_parent\"><img src=\"https://colab.research.google.com/assets/colab-badge.svg\" alt=\"Open In Colab\"/></a>"
      ]
    },
    {
      "metadata": {
        "id": "eyzYCyRsH8-h",
        "colab_type": "code",
        "colab": {}
      },
      "cell_type": "code",
      "source": [
        "# http://pytorch.org/\n",
        "from os.path import exists\n",
        "from wheel.pep425tags import get_abbr_impl, get_impl_ver, get_abi_tag\n",
        "platform = '{}{}-{}'.format(get_abbr_impl(), get_impl_ver(), get_abi_tag())\n",
        "cuda_output = !ldconfig -p|grep cudart.so|sed -e 's/.*\\.\\([0-9]*\\)\\.\\([0-9]*\\)$/cu\\1\\2/'\n",
        "accelerator = cuda_output[0] if exists('/dev/nvidia0') else 'cpu'\n",
        "\n",
        "!pip install -q http://download.pytorch.org/whl/{accelerator}/torch-0.4.1-{platform}-linux_x86_64.whl torchvision\n",
        "import torch"
      ],
      "execution_count": 0,
      "outputs": []
    },
    {
      "metadata": {
        "id": "xcQbTMMpIj74",
        "colab_type": "code",
        "outputId": "2b7f7e46-6357-4eb4-e8e9-e598bdd5bafc",
        "colab": {
          "base_uri": "https://localhost:8080/",
          "height": 34
        }
      },
      "cell_type": "code",
      "source": [
        "# Conferindo se o CUDA esta disponivel\n",
        "\n",
        "verificaGPU = torch.cuda.is_available()\n",
        "\n",
        "if not verificaGPU:\n",
        "  print('CUDA INDISPONIVEL, TREINANDO COM CPU')\n",
        "else:\n",
        "  print('CUDA DISPONIVEL, TREINANDO COM GPU')"
      ],
      "execution_count": 2,
      "outputs": [
        {
          "output_type": "stream",
          "text": [
            "CUDA DISPONIVEL, TREINANDO COM GPU\n"
          ],
          "name": "stdout"
        }
      ]
    },
    {
      "metadata": {
        "id": "mTFSdb4gRK33",
        "colab_type": "code",
        "outputId": "d4372d5b-f120-440e-a2ab-3cc1cae1176c",
        "colab": {
          "base_uri": "https://localhost:8080/",
          "height": 139
        }
      },
      "cell_type": "code",
      "source": [
        "!pip3 install torchvision"
      ],
      "execution_count": 3,
      "outputs": [
        {
          "output_type": "stream",
          "text": [
            "Requirement already satisfied: torchvision in /usr/local/lib/python3.6/dist-packages (0.2.1)\n",
            "Requirement already satisfied: torch in /usr/local/lib/python3.6/dist-packages (from torchvision) (0.4.1)\n",
            "Requirement already satisfied: numpy in /usr/local/lib/python3.6/dist-packages (from torchvision) (1.14.6)\n",
            "Requirement already satisfied: six in /usr/local/lib/python3.6/dist-packages (from torchvision) (1.11.0)\n",
            "Requirement already satisfied: pillow>=4.1.1 in /usr/local/lib/python3.6/dist-packages (from torchvision) (4.1.1)\n",
            "Requirement already satisfied: olefile in /usr/local/lib/python3.6/dist-packages (from pillow>=4.1.1->torchvision) (0.46)\n"
          ],
          "name": "stdout"
        }
      ]
    },
    {
      "metadata": {
        "id": "nxFpAD8xTusN",
        "colab_type": "code",
        "colab": {
          "base_uri": "https://localhost:8080/",
          "height": 136
        },
        "outputId": "4cc2d303-704c-4f71-f5f8-e5c75d2a929a"
      },
      "cell_type": "code",
      "source": [
        "# Pillow\n",
        "!pip install Pillow==4.1.1\n",
        "\n",
        "!pip install image"
      ],
      "execution_count": 4,
      "outputs": [
        {
          "output_type": "stream",
          "text": [
            "Requirement already satisfied: Pillow==4.1.1 in /usr/local/lib/python3.6/dist-packages (4.1.1)\n",
            "Requirement already satisfied: olefile in /usr/local/lib/python3.6/dist-packages (from Pillow==4.1.1) (0.46)\n",
            "Requirement already satisfied: image in /usr/local/lib/python3.6/dist-packages (1.5.27)\n",
            "Requirement already satisfied: pillow in /usr/local/lib/python3.6/dist-packages (from image) (4.1.1)\n",
            "Requirement already satisfied: django in /usr/local/lib/python3.6/dist-packages (from image) (2.1.5)\n",
            "Requirement already satisfied: olefile in /usr/local/lib/python3.6/dist-packages (from pillow->image) (0.46)\n",
            "Requirement already satisfied: pytz in /usr/local/lib/python3.6/dist-packages (from django->image) (2018.9)\n"
          ],
          "name": "stdout"
        }
      ]
    },
    {
      "metadata": {
        "id": "4yFeiycn3-SW",
        "colab_type": "code",
        "colab": {}
      },
      "cell_type": "code",
      "source": [
        "# Fazendo download e descompactando o dataset\n",
        "!wget -cq https://github.com/udacity/pytorch_challenge/raw/master/cat_to_name.json\n",
        "!wget -cq https://s3.amazonaws.com/content.udacity-data.com/courses/nd188/flower_data.zip\n",
        "!rm -r flower_data || true\n",
        "!unzip -qq flower_data.zip"
      ],
      "execution_count": 0,
      "outputs": []
    },
    {
      "metadata": {
        "id": "MMiRF1Q9Ff6V",
        "colab_type": "code",
        "colab": {}
      },
      "cell_type": "code",
      "source": [
        "import time\n",
        "import json\n",
        "import copy\n",
        "import flower_data\n",
        "import matplotlib.pyplot as plt\n",
        "import seaborn as sns\n",
        "import numpy as np\n",
        "import PIL\n",
        "from PIL import Image\n",
        "from collections import OrderedDict\n",
        "import torch\n",
        "from torch import nn, optim\n",
        "from torch.optim import lr_scheduler\n",
        "from torch.autograd import Variable\n",
        "import torchvision\n",
        "from torchvision import datasets, models, transforms\n",
        "from torch.utils.data.sampler import SubsetRandomSampler\n",
        "import torch.nn as nn\n",
        "import torch.nn.functional as F\n",
        "import glob\n",
        "import os\n",
        "from skimage import data, io, filters\n",
        "from scipy.optimize import minimize\n"
      ],
      "execution_count": 0,
      "outputs": []
    },
    {
      "metadata": {
        "id": "qNt-6tDkYx4X",
        "colab_type": "code",
        "colab": {}
      },
      "cell_type": "code",
      "source": [
        "device = torch.device(\"cuda:0\" if torch.cuda.is_available() else \"cpu\")"
      ],
      "execution_count": 0,
      "outputs": []
    },
    {
      "metadata": {
        "id": "PNhMUsEXUQY7",
        "colab_type": "text"
      },
      "cell_type": "markdown",
      "source": [
        "#Carregando, Normalizando e Criando vetor de Imagens"
      ]
    },
    {
      "metadata": {
        "id": "ORyh1oX9goG0",
        "colab_type": "code",
        "outputId": "4e2066f2-a83e-48aa-ab7a-9f994626eb0e",
        "colab": {
          "base_uri": "https://localhost:8080/",
          "height": 204
        }
      },
      "cell_type": "code",
      "source": [
        "# Data augmentation and normalization for training\n",
        "# Just normalization for validation\n",
        "data_transforms = {\n",
        "    'train': transforms.Compose([\n",
        "        # Redimensiona a imagem em (224,224)\n",
        "        transforms.RandomResizedCrop(224),\n",
        "        # Inverte horizontalmente a imagem\n",
        "        transforms.RandomHorizontalFlip(),\n",
        "        # Transforma em matriz de dados unicos\n",
        "        transforms.ToTensor(),\n",
        "        # Normaliza as imagens atraves de desvio padrão(Valores retirados de outro trabalho) \n",
        "        transforms.Normalize([0.485, 0.456, 0.406], [0.229, 0.224, 0.225])\n",
        "    ]),\n",
        "    'valid': transforms.Compose([\n",
        "        # Transformação da imagem para tamanho de entrada\n",
        "        transforms.Resize(256),\n",
        "        # Recorta a imagem no centro\n",
        "        transforms.CenterCrop(224),\n",
        "        transforms.ToTensor(),\n",
        "        transforms.Normalize([0.485, 0.456, 0.406], [0.229, 0.224, 0.225])\n",
        "    ]),\n",
        "}\n",
        "\n",
        "\n",
        "print(data_transforms)"
      ],
      "execution_count": 8,
      "outputs": [
        {
          "output_type": "stream",
          "text": [
            "{'train': Compose(\n",
            "    RandomResizedCrop(size=(224, 224), scale=(0.08, 1.0), ratio=(0.75, 1.3333), interpolation=PIL.Image.BILINEAR)\n",
            "    RandomHorizontalFlip(p=0.5)\n",
            "    ToTensor()\n",
            "    Normalize(mean=[0.485, 0.456, 0.406], std=[0.229, 0.224, 0.225])\n",
            "), 'valid': Compose(\n",
            "    Resize(size=256, interpolation=PIL.Image.BILINEAR)\n",
            "    CenterCrop(size=(224, 224))\n",
            "    ToTensor()\n",
            "    Normalize(mean=[0.485, 0.456, 0.406], std=[0.229, 0.224, 0.225])\n",
            ")}\n"
          ],
          "name": "stdout"
        }
      ]
    },
    {
      "metadata": {
        "id": "6yE5HHrKXfTT",
        "colab_type": "code",
        "colab": {}
      },
      "cell_type": "code",
      "source": [
        "train_dir = 'flower_data/train/'\n",
        "valid_dir = 'flower_data/valid/'\n",
        "dirs = {'train': train_dir, \n",
        "        'valid': valid_dir, \n",
        "       }"
      ],
      "execution_count": 0,
      "outputs": []
    },
    {
      "metadata": {
        "id": "yg_i22ryV5AT",
        "colab_type": "code",
        "colab": {}
      },
      "cell_type": "code",
      "source": [
        "image_datasets = {x: datasets.ImageFolder(dirs[x],\n",
        "                                          transform = data_transforms[x])\n",
        "                  for x in ['train', 'valid']}\n",
        "\n",
        "dataloaders = {x: torch.utils.data.DataLoader(image_datasets[x], \n",
        "                                              batch_size=32, shuffle=True) \n",
        "               for x in ['train', 'valid']}\n",
        "dataset_sizes = {x: len(image_datasets[x]) \n",
        "                              for x in ['train', 'valid']}\n",
        "class_names = image_datasets['train'].classes"
      ],
      "execution_count": 0,
      "outputs": []
    },
    {
      "metadata": {
        "id": "pp2d2zMBZBGO",
        "colab_type": "code",
        "colab": {
          "base_uri": "https://localhost:8080/",
          "height": 51
        },
        "outputId": "99727240-f8e0-4a67-bfd3-ffa601ec28d0"
      },
      "cell_type": "code",
      "source": [
        "print(dataset_sizes)\n",
        "print(device)"
      ],
      "execution_count": 13,
      "outputs": [
        {
          "output_type": "stream",
          "text": [
            "{'train': 6552, 'valid': 818}\n",
            "cuda:0\n"
          ],
          "name": "stdout"
        }
      ]
    },
    {
      "metadata": {
        "id": "kkYTDVkDZP-N",
        "colab_type": "code",
        "colab": {}
      },
      "cell_type": "code",
      "source": [
        "# Label mapping\n",
        "with open('cat_to_name.json', 'r') as f:\n",
        "    cat_to_name = json.load(f)"
      ],
      "execution_count": 0,
      "outputs": []
    },
    {
      "metadata": {
        "id": "HQu7vOXfZGDI",
        "colab_type": "code",
        "colab": {
          "base_uri": "https://localhost:8080/",
          "height": 34
        },
        "outputId": "b875ede9-5731-4fff-fb50-08ff3c4bd218"
      },
      "cell_type": "code",
      "source": [
        "images, labels = next(iter(dataloaders['train']))\n",
        "images.size()\n",
        "images, labels = next(iter(dataloaders['train']))\n",
        "rand_idx = np.random.randint(len(images))\n",
        "# print(rand_idx)\n",
        "print(\"label: {}, class: {}, name: {}\".format(labels[rand_idx].item(),\n",
        "                                               class_names[labels[rand_idx].item()],\n",
        "                                               cat_to_name[class_names[labels[rand_idx].item()]]))"
      ],
      "execution_count": 16,
      "outputs": [
        {
          "output_type": "stream",
          "text": [
            "label: 90, class: 89, name: watercress\n"
          ],
          "name": "stdout"
        }
      ]
    },
    {
      "metadata": {
        "id": "9KKCZznmYyVg",
        "colab_type": "text"
      },
      "cell_type": "markdown",
      "source": [
        "## Pre-treino"
      ]
    },
    {
      "metadata": {
        "id": "MMs_QtMaY0_R",
        "colab_type": "code",
        "colab": {}
      },
      "cell_type": "code",
      "source": [
        "model = models.vgg19(pretrained=True)"
      ],
      "execution_count": 0,
      "outputs": []
    },
    {
      "metadata": {
        "id": "yaE5zsTwuctm",
        "colab_type": "code",
        "outputId": "b6f0734e-dea5-4233-b96f-bc50f10b2ab0",
        "colab": {
          "base_uri": "https://localhost:8080/",
          "height": 867
        }
      },
      "cell_type": "code",
      "source": [
        "model"
      ],
      "execution_count": 18,
      "outputs": [
        {
          "output_type": "execute_result",
          "data": {
            "text/plain": [
              "VGG(\n",
              "  (features): Sequential(\n",
              "    (0): Conv2d(3, 64, kernel_size=(3, 3), stride=(1, 1), padding=(1, 1))\n",
              "    (1): ReLU(inplace)\n",
              "    (2): Conv2d(64, 64, kernel_size=(3, 3), stride=(1, 1), padding=(1, 1))\n",
              "    (3): ReLU(inplace)\n",
              "    (4): MaxPool2d(kernel_size=2, stride=2, padding=0, dilation=1, ceil_mode=False)\n",
              "    (5): Conv2d(64, 128, kernel_size=(3, 3), stride=(1, 1), padding=(1, 1))\n",
              "    (6): ReLU(inplace)\n",
              "    (7): Conv2d(128, 128, kernel_size=(3, 3), stride=(1, 1), padding=(1, 1))\n",
              "    (8): ReLU(inplace)\n",
              "    (9): MaxPool2d(kernel_size=2, stride=2, padding=0, dilation=1, ceil_mode=False)\n",
              "    (10): Conv2d(128, 256, kernel_size=(3, 3), stride=(1, 1), padding=(1, 1))\n",
              "    (11): ReLU(inplace)\n",
              "    (12): Conv2d(256, 256, kernel_size=(3, 3), stride=(1, 1), padding=(1, 1))\n",
              "    (13): ReLU(inplace)\n",
              "    (14): Conv2d(256, 256, kernel_size=(3, 3), stride=(1, 1), padding=(1, 1))\n",
              "    (15): ReLU(inplace)\n",
              "    (16): Conv2d(256, 256, kernel_size=(3, 3), stride=(1, 1), padding=(1, 1))\n",
              "    (17): ReLU(inplace)\n",
              "    (18): MaxPool2d(kernel_size=2, stride=2, padding=0, dilation=1, ceil_mode=False)\n",
              "    (19): Conv2d(256, 512, kernel_size=(3, 3), stride=(1, 1), padding=(1, 1))\n",
              "    (20): ReLU(inplace)\n",
              "    (21): Conv2d(512, 512, kernel_size=(3, 3), stride=(1, 1), padding=(1, 1))\n",
              "    (22): ReLU(inplace)\n",
              "    (23): Conv2d(512, 512, kernel_size=(3, 3), stride=(1, 1), padding=(1, 1))\n",
              "    (24): ReLU(inplace)\n",
              "    (25): Conv2d(512, 512, kernel_size=(3, 3), stride=(1, 1), padding=(1, 1))\n",
              "    (26): ReLU(inplace)\n",
              "    (27): MaxPool2d(kernel_size=2, stride=2, padding=0, dilation=1, ceil_mode=False)\n",
              "    (28): Conv2d(512, 512, kernel_size=(3, 3), stride=(1, 1), padding=(1, 1))\n",
              "    (29): ReLU(inplace)\n",
              "    (30): Conv2d(512, 512, kernel_size=(3, 3), stride=(1, 1), padding=(1, 1))\n",
              "    (31): ReLU(inplace)\n",
              "    (32): Conv2d(512, 512, kernel_size=(3, 3), stride=(1, 1), padding=(1, 1))\n",
              "    (33): ReLU(inplace)\n",
              "    (34): Conv2d(512, 512, kernel_size=(3, 3), stride=(1, 1), padding=(1, 1))\n",
              "    (35): ReLU(inplace)\n",
              "    (36): MaxPool2d(kernel_size=2, stride=2, padding=0, dilation=1, ceil_mode=False)\n",
              "  )\n",
              "  (classifier): Sequential(\n",
              "    (0): Linear(in_features=25088, out_features=4096, bias=True)\n",
              "    (1): ReLU(inplace)\n",
              "    (2): Dropout(p=0.5)\n",
              "    (3): Linear(in_features=4096, out_features=4096, bias=True)\n",
              "    (4): ReLU(inplace)\n",
              "    (5): Dropout(p=0.5)\n",
              "    (6): Linear(in_features=4096, out_features=1000, bias=True)\n",
              "  )\n",
              ")"
            ]
          },
          "metadata": {
            "tags": []
          },
          "execution_count": 18
        }
      ]
    },
    {
      "metadata": {
        "id": "UXHrmOP7ujLE",
        "colab_type": "code",
        "colab": {}
      },
      "cell_type": "code",
      "source": [
        "#Definindo a arquitetura da rede\n",
        "\n",
        "class Classifier(nn.Module):\n",
        "  def __init__(self):\n",
        "    super().__init__()\n",
        "    self.fc1 = nn.Linear(25088,4096)\n",
        "    self.fc2 = nn.Linear(4096,102)\n",
        "    \n",
        "  def forward(self,x):\n",
        "    #verifica se o tensor está \"flattened (achatado)\"\n",
        "    x = x.view(x.shape[0],-1)\n",
        "    \n",
        "    x = F.relu(self.fc1(x))\n",
        "    x = F.log_softmax(self.fc2(x),dim=1)\n",
        "    \n",
        "    return x"
      ],
      "execution_count": 0,
      "outputs": []
    },
    {
      "metadata": {
        "id": "ZEwR5kcxCQXr",
        "colab_type": "code",
        "colab": {}
      },
      "cell_type": "code",
      "source": [
        "classifier = Classifier()\n",
        "for param in model.parameters():\n",
        "    param.requires_grad = False"
      ],
      "execution_count": 0,
      "outputs": []
    },
    {
      "metadata": {
        "id": "1uZNOPo8Flm4",
        "colab_type": "code",
        "colab": {}
      },
      "cell_type": "code",
      "source": [
        "model.classifier = classifier"
      ],
      "execution_count": 0,
      "outputs": []
    },
    {
      "metadata": {
        "id": "J4QCVrPUFHoH",
        "colab_type": "code",
        "colab": {}
      },
      "cell_type": "code",
      "source": [
        "if verificaGPU:\n",
        "    model.cuda()"
      ],
      "execution_count": 0,
      "outputs": []
    },
    {
      "metadata": {
        "id": "mEFtihyXGGo8",
        "colab_type": "code",
        "colab": {}
      },
      "cell_type": "code",
      "source": [
        "# Criteria NLLLoss which is recommended with Softmax final layer\n",
        "criterion = nn.NLLLoss()\n",
        "# Observe that all parameters are being optimized\n",
        "optim = torch.optim.Adam(model.classifier.parameters(), lr=0.001)\n",
        "# Decay LR by a factor of 0.1 every 4 epochs\n",
        "sched = lr_scheduler.StepLR(optim, step_size=4, gamma=0.1)\n",
        "# Number of epochs\n",
        "eps=10"
      ],
      "execution_count": 0,
      "outputs": []
    },
    {
      "metadata": {
        "id": "hLzay5BoZxJr",
        "colab_type": "code",
        "colab": {}
      },
      "cell_type": "code",
      "source": [
        "def train_model(model, criteria, optimizer, scheduler,    \n",
        "                                      num_epochs=25, device='cuda'):\n",
        "    since = time.time()\n",
        "\n",
        "    best_model_wts = copy.deepcopy(model.state_dict())\n",
        "    best_acc = 0.0\n",
        "\n",
        "    for epoch in range(num_epochs):\n",
        "        print('Epoch {}/{}'.format(epoch, num_epochs - 1))\n",
        "        print('-' * 10)\n",
        "\n",
        "        # Each epoch has a training and validation phase\n",
        "        for phase in ['train', 'valid']:\n",
        "            if phase == 'train':\n",
        "                scheduler.step()\n",
        "                model.train()  # Set model to training mode\n",
        "            else:\n",
        "                model.eval()   # Set model to evaluate mode\n",
        "\n",
        "            running_loss = 0.0\n",
        "            running_corrects = 0\n",
        "\n",
        "            # Iterate over data.\n",
        "            for inputs, labels in dataloaders[phase]:\n",
        "                inputs = inputs.to(device)\n",
        "                labels = labels.to(device)\n",
        "\n",
        "                # zero the parameter gradients\n",
        "                optimizer.zero_grad()\n",
        "\n",
        "                # forward\n",
        "                # track history if only in train\n",
        "                with torch.set_grad_enabled(phase == 'train'):\n",
        "                    outputs = model(inputs)\n",
        "                    _, preds = torch.max(outputs, 1)\n",
        "                    loss = criterion(outputs, labels)\n",
        "\n",
        "                    # backward + optimize only if in training phase\n",
        "                    if phase == 'train':\n",
        "                        loss.backward()\n",
        "                        optimizer.step()\n",
        "\n",
        "                # statistics\n",
        "                running_loss += loss.item() * inputs.size(0)\n",
        "                running_corrects += torch.sum(preds == labels.data)\n",
        "\n",
        "            epoch_loss = running_loss / dataset_sizes[phase]\n",
        "            epoch_acc = running_corrects.double() / dataset_sizes[phase]\n",
        "\n",
        "            print('{} Loss: {:.4f} Acc: {:.4f}'.format(\n",
        "                phase, epoch_loss, epoch_acc))\n",
        "\n",
        "            # deep copy the model\n",
        "            if phase == 'valid' and epoch_acc > best_acc:\n",
        "                best_acc = epoch_acc\n",
        "                best_model_wts = copy.deepcopy(model.state_dict())\n",
        "\n",
        "        print()\n",
        "\n",
        "    time_elapsed = time.time() - since\n",
        "    print('Training complete in {:.0f}m {:.0f}s'.format(\n",
        "        time_elapsed // 60, time_elapsed % 60))\n",
        "    print('Best val Acc: {:4f}'.format(best_acc))\n",
        "\n",
        "    # load best model weights\n",
        "    model.load_state_dict(best_model_wts)\n",
        "    return model"
      ],
      "execution_count": 0,
      "outputs": []
    },
    {
      "metadata": {
        "id": "dK_QACUYZ3Li",
        "colab_type": "code",
        "colab": {
          "base_uri": "https://localhost:8080/",
          "height": 901
        },
        "outputId": "3c6a98ef-5dc0-46e3-d18b-1dd00b390edd"
      },
      "cell_type": "code",
      "source": [
        "model_ft = train_model(model, criteria, optim, sched, eps, 'cuda')"
      ],
      "execution_count": 30,
      "outputs": [
        {
          "output_type": "stream",
          "text": [
            "Epoch 0/9\n",
            "----------\n",
            "train Loss: 2.1997 Acc: 0.5082\n",
            "valid Loss: 0.7873 Acc: 0.7861\n",
            "\n",
            "Epoch 1/9\n",
            "----------\n",
            "train Loss: 0.9887 Acc: 0.7308\n",
            "valid Loss: 0.7072 Acc: 0.7995\n",
            "\n",
            "Epoch 2/9\n",
            "----------\n",
            "train Loss: 0.8069 Acc: 0.7785\n",
            "valid Loss: 0.5680 Acc: 0.8447\n",
            "\n",
            "Epoch 3/9\n",
            "----------\n",
            "train Loss: 0.7787 Acc: 0.7879\n",
            "valid Loss: 0.5735 Acc: 0.8496\n",
            "\n",
            "Epoch 4/9\n",
            "----------\n",
            "train Loss: 0.5132 Acc: 0.8593\n",
            "valid Loss: 0.3992 Acc: 0.8912\n",
            "\n",
            "Epoch 5/9\n",
            "----------\n",
            "train Loss: 0.4330 Acc: 0.8829\n",
            "valid Loss: 0.3754 Acc: 0.8961\n",
            "\n",
            "Epoch 6/9\n",
            "----------\n",
            "train Loss: 0.3945 Acc: 0.8918\n",
            "valid Loss: 0.3597 Acc: 0.9071\n",
            "\n",
            "Epoch 7/9\n",
            "----------\n",
            "train Loss: 0.3784 Acc: 0.8939\n",
            "valid Loss: 0.3687 Acc: 0.9071\n",
            "\n",
            "Epoch 8/9\n",
            "----------\n",
            "train Loss: 0.3453 Acc: 0.9058\n",
            "valid Loss: 0.3564 Acc: 0.9059\n",
            "\n",
            "Epoch 9/9\n",
            "----------\n",
            "train Loss: 0.3575 Acc: 0.9006\n",
            "valid Loss: 0.3530 Acc: 0.9059\n",
            "\n",
            "Training complete in 36m 7s\n",
            "Best val Acc: 0.907090\n"
          ],
          "name": "stdout"
        }
      ]
    },
    {
      "metadata": {
        "id": "6MI9O1JlieP7",
        "colab_type": "code",
        "colab": {}
      },
      "cell_type": "code",
      "source": [
        "# Função pronta # Em estudo\n",
        "def calc_accuracy(model, data, cuda=False):\n",
        "    model.eval()\n",
        "    model.to(device='cuda')    \n",
        "    \n",
        "    with torch.no_grad():\n",
        "        for idx, (inputs, labels) in enumerate(dataloaders[data]):\n",
        "            if cuda:\n",
        "                inputs, labels = inputs.cuda(), labels.cuda()\n",
        "            # obtain the outputs from the model\n",
        "            outputs = model.forward(inputs)\n",
        "            # max provides the (maximum probability, max value)\n",
        "            _, predicted = outputs.max(dim=1)\n",
        "            # check the \n",
        "            if idx == 0:\n",
        "                print(predicted) #the predicted class\n",
        "                print(torch.exp(_)) # the predicted probability\n",
        "            equals = predicted == labels.data\n",
        "            if idx == 0:\n",
        "                print(equals)\n",
        "            print(equals.float().mean())"
      ],
      "execution_count": 0,
      "outputs": []
    },
    {
      "metadata": {
        "id": "aOMjM8j4ismo",
        "colab_type": "code",
        "colab": {
          "base_uri": "https://localhost:8080/",
          "height": 612
        },
        "outputId": "8809635b-8e57-4da5-bdf6-772a58cb0da7"
      },
      "cell_type": "code",
      "source": [
        "acuracia = calc_accuracy(model, 'valid', True)"
      ],
      "execution_count": 42,
      "outputs": [
        {
          "output_type": "stream",
          "text": [
            "tensor([ 45,  49,  65,  26,  64,  59,  30,  43,  50,  53,  11,  12,  43, 100,\n",
            "         47,  51,  74,  99,  43,  39,  38,  11,  12,  26,  83,  38,  17,  89,\n",
            "         82,  62,  38,  76], device='cuda:0')\n",
            "tensor([0.9597, 0.9996, 0.9999, 0.9941, 1.0000, 1.0000, 0.9827, 0.3120, 0.6429,\n",
            "        0.9978, 1.0000, 1.0000, 0.6562, 0.9970, 0.9925, 0.3685, 0.4184, 0.9832,\n",
            "        0.9999, 0.9957, 0.6466, 1.0000, 0.9996, 0.9895, 0.6365, 0.9999, 0.9554,\n",
            "        0.7745, 1.0000, 1.0000, 0.6963, 0.9577], device='cuda:0')\n",
            "tensor([1, 1, 1, 1, 1, 1, 1, 0, 1, 1, 1, 1, 0, 1, 1, 0, 1, 1, 1, 1, 1, 1, 1, 1,\n",
            "        1, 1, 1, 0, 1, 1, 0, 1], device='cuda:0', dtype=torch.uint8)\n",
            "tensor(0.8438, device='cuda:0')\n",
            "tensor(0.8438, device='cuda:0')\n",
            "tensor(0.9688, device='cuda:0')\n",
            "tensor(0.9062, device='cuda:0')\n",
            "tensor(0.8750, device='cuda:0')\n",
            "tensor(0.9062, device='cuda:0')\n",
            "tensor(0.8750, device='cuda:0')\n",
            "tensor(0.9062, device='cuda:0')\n",
            "tensor(0.9375, device='cuda:0')\n",
            "tensor(0.8438, device='cuda:0')\n",
            "tensor(0.8750, device='cuda:0')\n",
            "tensor(0.9375, device='cuda:0')\n",
            "tensor(0.9688, device='cuda:0')\n",
            "tensor(0.9375, device='cuda:0')\n",
            "tensor(0.8438, device='cuda:0')\n",
            "tensor(1., device='cuda:0')\n",
            "tensor(0.9375, device='cuda:0')\n",
            "tensor(0.9688, device='cuda:0')\n",
            "tensor(0.9062, device='cuda:0')\n",
            "tensor(0.9688, device='cuda:0')\n",
            "tensor(0.9062, device='cuda:0')\n",
            "tensor(0.8438, device='cuda:0')\n",
            "tensor(0.8125, device='cuda:0')\n",
            "tensor(0.9062, device='cuda:0')\n",
            "tensor(0.9688, device='cuda:0')\n",
            "tensor(0.8889, device='cuda:0')\n"
          ],
          "name": "stdout"
        }
      ]
    },
    {
      "metadata": {
        "id": "M1PK8UV8nYdw",
        "colab_type": "code",
        "colab": {
          "base_uri": "https://localhost:8080/",
          "height": 163
        },
        "outputId": "0f1c148e-e287-4a48-85ee-8db3c5b5ac81"
      },
      "cell_type": "code",
      "source": [
        ""
      ],
      "execution_count": 40,
      "outputs": [
        {
          "output_type": "error",
          "ename": "NameError",
          "evalue": "ignored",
          "traceback": [
            "\u001b[0;31m---------------------------------------------------------------------------\u001b[0m",
            "\u001b[0;31mNameError\u001b[0m                                 Traceback (most recent call last)",
            "\u001b[0;32m<ipython-input-40-610e78f865fc>\u001b[0m in \u001b[0;36m<module>\u001b[0;34m()\u001b[0m\n\u001b[0;32m----> 1\u001b[0;31m \u001b[0mprint\u001b[0m\u001b[0;34m(\u001b[0m\u001b[0mpredicted\u001b[0m\u001b[0;34m)\u001b[0m\u001b[0;34m\u001b[0m\u001b[0;34m\u001b[0m\u001b[0m\n\u001b[0m",
            "\u001b[0;31mNameError\u001b[0m: name 'predicted' is not defined"
          ]
        }
      ]
    }
  ]
}